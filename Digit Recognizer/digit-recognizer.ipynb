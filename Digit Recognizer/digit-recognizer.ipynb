{
 "cells": [
  {
   "cell_type": "code",
   "execution_count": 1,
   "id": "230df57c",
   "metadata": {
    "_cell_guid": "b1076dfc-b9ad-4769-8c92-a6c4dae69d19",
    "_uuid": "8f2839f25d086af736a60e9eeb907d3b93b6e0e5",
    "execution": {
     "iopub.execute_input": "2023-04-22T16:33:00.109466Z",
     "iopub.status.busy": "2023-04-22T16:33:00.109060Z",
     "iopub.status.idle": "2023-04-22T16:33:00.123486Z",
     "shell.execute_reply": "2023-04-22T16:33:00.122490Z"
    },
    "papermill": {
     "duration": 0.024327,
     "end_time": "2023-04-22T16:33:00.126271",
     "exception": false,
     "start_time": "2023-04-22T16:33:00.101944",
     "status": "completed"
    },
    "tags": []
   },
   "outputs": [
    {
     "name": "stdout",
     "output_type": "stream",
     "text": [
      "/kaggle/input/digit-recognizer/sample_submission.csv\n",
      "/kaggle/input/digit-recognizer/train.csv\n",
      "/kaggle/input/digit-recognizer/test.csv\n"
     ]
    }
   ],
   "source": [
    "# This Python 3 environment comes with many helpful analytics libraries installed\n",
    "# It is defined by the kaggle/python Docker image: https://github.com/kaggle/docker-python\n",
    "# For example, here's several helpful packages to load\n",
    "\n",
    "import numpy as np # linear algebra\n",
    "import pandas as pd # data processing, CSV file I/O (e.g. pd.read_csv)\n",
    "\n",
    "# Input data files are available in the read-only \"../input/\" directory\n",
    "# For example, running this (by clicking run or pressing Shift+Enter) will list all files under the input directory\n",
    "\n",
    "import os\n",
    "for dirname, _, filenames in os.walk('/kaggle/input'):\n",
    "    for filename in filenames:\n",
    "        print(os.path.join(dirname, filename))\n",
    "\n",
    "# You can write up to 20GB to the current directory (/kaggle/working/) that gets preserved as output when you create a version using \"Save & Run All\" \n",
    "# You can also write temporary files to /kaggle/temp/, but they won't be saved outside of the current session"
   ]
  },
  {
   "cell_type": "code",
   "execution_count": 2,
   "id": "cb1816b7",
   "metadata": {
    "execution": {
     "iopub.execute_input": "2023-04-22T16:33:00.136622Z",
     "iopub.status.busy": "2023-04-22T16:33:00.135924Z",
     "iopub.status.idle": "2023-04-22T16:33:10.517058Z",
     "shell.execute_reply": "2023-04-22T16:33:10.515557Z"
    },
    "papermill": {
     "duration": 10.38968,
     "end_time": "2023-04-22T16:33:10.520151",
     "exception": false,
     "start_time": "2023-04-22T16:33:00.130471",
     "status": "completed"
    },
    "tags": []
   },
   "outputs": [],
   "source": [
    "# Importing more modules\n",
    "import tensorflow as tf\n",
    "from tensorflow.keras import layers, models\n",
    "import matplotlib.pyplot as plt\n",
    "from sklearn.model_selection import train_test_split\n",
    "from tensorflow.keras.models import Sequential\n",
    "from tensorflow.keras.layers import Conv2D\n",
    "from tensorflow.keras.layers import MaxPooling2D\n",
    "from tensorflow.keras.layers import Flatten\n",
    "from tensorflow.keras.layers import Dense\n",
    "from keras.optimizers import SGD"
   ]
  },
  {
   "cell_type": "code",
   "execution_count": 3,
   "id": "ff3894a9",
   "metadata": {
    "execution": {
     "iopub.execute_input": "2023-04-22T16:33:10.531282Z",
     "iopub.status.busy": "2023-04-22T16:33:10.529705Z",
     "iopub.status.idle": "2023-04-22T16:33:14.350074Z",
     "shell.execute_reply": "2023-04-22T16:33:14.348805Z"
    },
    "papermill": {
     "duration": 3.828294,
     "end_time": "2023-04-22T16:33:14.352583",
     "exception": false,
     "start_time": "2023-04-22T16:33:10.524289",
     "status": "completed"
    },
    "tags": []
   },
   "outputs": [
    {
     "data": {
      "text/html": [
       "<div>\n",
       "<style scoped>\n",
       "    .dataframe tbody tr th:only-of-type {\n",
       "        vertical-align: middle;\n",
       "    }\n",
       "\n",
       "    .dataframe tbody tr th {\n",
       "        vertical-align: top;\n",
       "    }\n",
       "\n",
       "    .dataframe thead th {\n",
       "        text-align: right;\n",
       "    }\n",
       "</style>\n",
       "<table border=\"1\" class=\"dataframe\">\n",
       "  <thead>\n",
       "    <tr style=\"text-align: right;\">\n",
       "      <th></th>\n",
       "      <th>label</th>\n",
       "      <th>pixel0</th>\n",
       "      <th>pixel1</th>\n",
       "      <th>pixel2</th>\n",
       "      <th>pixel3</th>\n",
       "      <th>pixel4</th>\n",
       "      <th>pixel5</th>\n",
       "      <th>pixel6</th>\n",
       "      <th>pixel7</th>\n",
       "      <th>pixel8</th>\n",
       "      <th>...</th>\n",
       "      <th>pixel774</th>\n",
       "      <th>pixel775</th>\n",
       "      <th>pixel776</th>\n",
       "      <th>pixel777</th>\n",
       "      <th>pixel778</th>\n",
       "      <th>pixel779</th>\n",
       "      <th>pixel780</th>\n",
       "      <th>pixel781</th>\n",
       "      <th>pixel782</th>\n",
       "      <th>pixel783</th>\n",
       "    </tr>\n",
       "  </thead>\n",
       "  <tbody>\n",
       "    <tr>\n",
       "      <th>0</th>\n",
       "      <td>1</td>\n",
       "      <td>0</td>\n",
       "      <td>0</td>\n",
       "      <td>0</td>\n",
       "      <td>0</td>\n",
       "      <td>0</td>\n",
       "      <td>0</td>\n",
       "      <td>0</td>\n",
       "      <td>0</td>\n",
       "      <td>0</td>\n",
       "      <td>...</td>\n",
       "      <td>0</td>\n",
       "      <td>0</td>\n",
       "      <td>0</td>\n",
       "      <td>0</td>\n",
       "      <td>0</td>\n",
       "      <td>0</td>\n",
       "      <td>0</td>\n",
       "      <td>0</td>\n",
       "      <td>0</td>\n",
       "      <td>0</td>\n",
       "    </tr>\n",
       "    <tr>\n",
       "      <th>1</th>\n",
       "      <td>0</td>\n",
       "      <td>0</td>\n",
       "      <td>0</td>\n",
       "      <td>0</td>\n",
       "      <td>0</td>\n",
       "      <td>0</td>\n",
       "      <td>0</td>\n",
       "      <td>0</td>\n",
       "      <td>0</td>\n",
       "      <td>0</td>\n",
       "      <td>...</td>\n",
       "      <td>0</td>\n",
       "      <td>0</td>\n",
       "      <td>0</td>\n",
       "      <td>0</td>\n",
       "      <td>0</td>\n",
       "      <td>0</td>\n",
       "      <td>0</td>\n",
       "      <td>0</td>\n",
       "      <td>0</td>\n",
       "      <td>0</td>\n",
       "    </tr>\n",
       "    <tr>\n",
       "      <th>2</th>\n",
       "      <td>1</td>\n",
       "      <td>0</td>\n",
       "      <td>0</td>\n",
       "      <td>0</td>\n",
       "      <td>0</td>\n",
       "      <td>0</td>\n",
       "      <td>0</td>\n",
       "      <td>0</td>\n",
       "      <td>0</td>\n",
       "      <td>0</td>\n",
       "      <td>...</td>\n",
       "      <td>0</td>\n",
       "      <td>0</td>\n",
       "      <td>0</td>\n",
       "      <td>0</td>\n",
       "      <td>0</td>\n",
       "      <td>0</td>\n",
       "      <td>0</td>\n",
       "      <td>0</td>\n",
       "      <td>0</td>\n",
       "      <td>0</td>\n",
       "    </tr>\n",
       "    <tr>\n",
       "      <th>3</th>\n",
       "      <td>4</td>\n",
       "      <td>0</td>\n",
       "      <td>0</td>\n",
       "      <td>0</td>\n",
       "      <td>0</td>\n",
       "      <td>0</td>\n",
       "      <td>0</td>\n",
       "      <td>0</td>\n",
       "      <td>0</td>\n",
       "      <td>0</td>\n",
       "      <td>...</td>\n",
       "      <td>0</td>\n",
       "      <td>0</td>\n",
       "      <td>0</td>\n",
       "      <td>0</td>\n",
       "      <td>0</td>\n",
       "      <td>0</td>\n",
       "      <td>0</td>\n",
       "      <td>0</td>\n",
       "      <td>0</td>\n",
       "      <td>0</td>\n",
       "    </tr>\n",
       "    <tr>\n",
       "      <th>4</th>\n",
       "      <td>0</td>\n",
       "      <td>0</td>\n",
       "      <td>0</td>\n",
       "      <td>0</td>\n",
       "      <td>0</td>\n",
       "      <td>0</td>\n",
       "      <td>0</td>\n",
       "      <td>0</td>\n",
       "      <td>0</td>\n",
       "      <td>0</td>\n",
       "      <td>...</td>\n",
       "      <td>0</td>\n",
       "      <td>0</td>\n",
       "      <td>0</td>\n",
       "      <td>0</td>\n",
       "      <td>0</td>\n",
       "      <td>0</td>\n",
       "      <td>0</td>\n",
       "      <td>0</td>\n",
       "      <td>0</td>\n",
       "      <td>0</td>\n",
       "    </tr>\n",
       "  </tbody>\n",
       "</table>\n",
       "<p>5 rows × 785 columns</p>\n",
       "</div>"
      ],
      "text/plain": [
       "   label  pixel0  pixel1  pixel2  pixel3  pixel4  pixel5  pixel6  pixel7  \\\n",
       "0      1       0       0       0       0       0       0       0       0   \n",
       "1      0       0       0       0       0       0       0       0       0   \n",
       "2      1       0       0       0       0       0       0       0       0   \n",
       "3      4       0       0       0       0       0       0       0       0   \n",
       "4      0       0       0       0       0       0       0       0       0   \n",
       "\n",
       "   pixel8  ...  pixel774  pixel775  pixel776  pixel777  pixel778  pixel779  \\\n",
       "0       0  ...         0         0         0         0         0         0   \n",
       "1       0  ...         0         0         0         0         0         0   \n",
       "2       0  ...         0         0         0         0         0         0   \n",
       "3       0  ...         0         0         0         0         0         0   \n",
       "4       0  ...         0         0         0         0         0         0   \n",
       "\n",
       "   pixel780  pixel781  pixel782  pixel783  \n",
       "0         0         0         0         0  \n",
       "1         0         0         0         0  \n",
       "2         0         0         0         0  \n",
       "3         0         0         0         0  \n",
       "4         0         0         0         0  \n",
       "\n",
       "[5 rows x 785 columns]"
      ]
     },
     "execution_count": 3,
     "metadata": {},
     "output_type": "execute_result"
    }
   ],
   "source": [
    "# Loading the data\n",
    "mytrain = pd.read_csv('/kaggle/input/digit-recognizer/train.csv')\n",
    "mytrain.head()"
   ]
  },
  {
   "cell_type": "code",
   "execution_count": 4,
   "id": "64a72d85",
   "metadata": {
    "execution": {
     "iopub.execute_input": "2023-04-22T16:33:14.364286Z",
     "iopub.status.busy": "2023-04-22T16:33:14.362911Z",
     "iopub.status.idle": "2023-04-22T16:33:15.012439Z",
     "shell.execute_reply": "2023-04-22T16:33:15.010832Z"
    },
    "papermill": {
     "duration": 0.658432,
     "end_time": "2023-04-22T16:33:15.015541",
     "exception": false,
     "start_time": "2023-04-22T16:33:14.357109",
     "status": "completed"
    },
    "tags": []
   },
   "outputs": [],
   "source": [
    "# Getting features and a label\n",
    "X = mytrain.drop(['label'], axis=1)\n",
    "Y = mytrain['label']\n",
    "# Reshaping and rescaling the features\n",
    "X = X.values.reshape(-1, 28, 28, 1)\n",
    "X = X/255.0\n",
    "# Splitting into train and test sets\n",
    "x_train,x_test1,y_train,y_test1 = train_test_split(X,Y,test_size = 0.2)"
   ]
  },
  {
   "cell_type": "code",
   "execution_count": 5,
   "id": "325df64d",
   "metadata": {
    "execution": {
     "iopub.execute_input": "2023-04-22T16:33:15.026763Z",
     "iopub.status.busy": "2023-04-22T16:33:15.026068Z",
     "iopub.status.idle": "2023-04-22T16:33:15.351720Z",
     "shell.execute_reply": "2023-04-22T16:33:15.350352Z"
    },
    "papermill": {
     "duration": 0.334631,
     "end_time": "2023-04-22T16:33:15.354587",
     "exception": false,
     "start_time": "2023-04-22T16:33:15.019956",
     "status": "completed"
    },
    "tags": []
   },
   "outputs": [],
   "source": [
    "# Creating the model\n",
    "model = Sequential()\n",
    "model.add(Conv2D(input_shape = (28, 28, 1),\n",
    "                 filters=32,activation='relu', \n",
    "                 kernel_size=(3,3),padding='same'\n",
    "                 ))\n",
    "model.add(MaxPooling2D(pool_size=(2,2)))\n",
    "model.add(Conv2D(filters=48,activation='relu', \n",
    "                 kernel_size=(3,3),padding='same'\n",
    "                 ))\n",
    "model.add(MaxPooling2D(pool_size=(2,2)))\n",
    "model.add(Conv2D(filters=64,activation='relu', \n",
    "                 kernel_size=(3,3),padding='same'\n",
    "                 ))\n",
    "model.add(MaxPooling2D(pool_size=(2,2)))\n",
    "model.add(Conv2D(filters=96,activation='relu', \n",
    "                 kernel_size=(3,3),padding='same'\n",
    "                 ))\n",
    "model.add(MaxPooling2D(pool_size=(2,2)))\n",
    "model.add(Flatten())\n",
    "model.add(Dense(96, activation='relu'))\n",
    "model.add(Dense(64, activation='relu'))\n",
    "model.add(Dense(48, activation='relu'))\n",
    "model.add(Dense(32, activation='relu'))\n",
    "model.add(Dense(10, activation='softmax'))"
   ]
  },
  {
   "cell_type": "code",
   "execution_count": 6,
   "id": "e48200d2",
   "metadata": {
    "execution": {
     "iopub.execute_input": "2023-04-22T16:33:15.365380Z",
     "iopub.status.busy": "2023-04-22T16:33:15.364949Z",
     "iopub.status.idle": "2023-04-22T16:33:15.427368Z",
     "shell.execute_reply": "2023-04-22T16:33:15.425972Z"
    },
    "papermill": {
     "duration": 0.070986,
     "end_time": "2023-04-22T16:33:15.430020",
     "exception": false,
     "start_time": "2023-04-22T16:33:15.359034",
     "status": "completed"
    },
    "tags": []
   },
   "outputs": [
    {
     "name": "stdout",
     "output_type": "stream",
     "text": [
      "Model: \"sequential\"\n",
      "_________________________________________________________________\n",
      " Layer (type)                Output Shape              Param #   \n",
      "=================================================================\n",
      " conv2d (Conv2D)             (None, 28, 28, 32)        320       \n",
      "                                                                 \n",
      " max_pooling2d (MaxPooling2D  (None, 14, 14, 32)       0         \n",
      " )                                                               \n",
      "                                                                 \n",
      " conv2d_1 (Conv2D)           (None, 14, 14, 48)        13872     \n",
      "                                                                 \n",
      " max_pooling2d_1 (MaxPooling  (None, 7, 7, 48)         0         \n",
      " 2D)                                                             \n",
      "                                                                 \n",
      " conv2d_2 (Conv2D)           (None, 7, 7, 64)          27712     \n",
      "                                                                 \n",
      " max_pooling2d_2 (MaxPooling  (None, 3, 3, 64)         0         \n",
      " 2D)                                                             \n",
      "                                                                 \n",
      " conv2d_3 (Conv2D)           (None, 3, 3, 96)          55392     \n",
      "                                                                 \n",
      " max_pooling2d_3 (MaxPooling  (None, 1, 1, 96)         0         \n",
      " 2D)                                                             \n",
      "                                                                 \n",
      " flatten (Flatten)           (None, 96)                0         \n",
      "                                                                 \n",
      " dense (Dense)               (None, 96)                9312      \n",
      "                                                                 \n",
      " dense_1 (Dense)             (None, 64)                6208      \n",
      "                                                                 \n",
      " dense_2 (Dense)             (None, 48)                3120      \n",
      "                                                                 \n",
      " dense_3 (Dense)             (None, 32)                1568      \n",
      "                                                                 \n",
      " dense_4 (Dense)             (None, 10)                330       \n",
      "                                                                 \n",
      "=================================================================\n",
      "Total params: 117,834\n",
      "Trainable params: 117,834\n",
      "Non-trainable params: 0\n",
      "_________________________________________________________________\n"
     ]
    }
   ],
   "source": [
    "model.summary()"
   ]
  },
  {
   "cell_type": "code",
   "execution_count": 7,
   "id": "34b34c29",
   "metadata": {
    "execution": {
     "iopub.execute_input": "2023-04-22T16:33:15.446796Z",
     "iopub.status.busy": "2023-04-22T16:33:15.446382Z",
     "iopub.status.idle": "2023-04-22T16:33:15.464719Z",
     "shell.execute_reply": "2023-04-22T16:33:15.463668Z"
    },
    "papermill": {
     "duration": 0.03044,
     "end_time": "2023-04-22T16:33:15.467499",
     "exception": false,
     "start_time": "2023-04-22T16:33:15.437059",
     "status": "completed"
    },
    "tags": []
   },
   "outputs": [],
   "source": [
    "model.compile(optimizer=SGD(learning_rate=0.06), \n",
    "              loss='sparse_categorical_crossentropy', \n",
    "              metrics=['accuracy']) "
   ]
  },
  {
   "cell_type": "code",
   "execution_count": 8,
   "id": "150f34dc",
   "metadata": {
    "execution": {
     "iopub.execute_input": "2023-04-22T16:33:15.483790Z",
     "iopub.status.busy": "2023-04-22T16:33:15.482723Z",
     "iopub.status.idle": "2023-04-22T17:04:36.681290Z",
     "shell.execute_reply": "2023-04-22T17:04:36.679884Z"
    },
    "papermill": {
     "duration": 1881.2099,
     "end_time": "2023-04-22T17:04:36.684271",
     "exception": false,
     "start_time": "2023-04-22T16:33:15.474371",
     "status": "completed"
    },
    "tags": []
   },
   "outputs": [
    {
     "name": "stdout",
     "output_type": "stream",
     "text": [
      "Epoch 1/75\n",
      "33/33 [==============================] - 27s 770ms/step - loss: 2.2936 - accuracy: 0.1656 - val_loss: 2.2827 - val_accuracy: 0.2108\n",
      "Epoch 2/75\n",
      "33/33 [==============================] - 25s 740ms/step - loss: 2.2626 - accuracy: 0.2501 - val_loss: 2.2322 - val_accuracy: 0.2317\n",
      "Epoch 3/75\n",
      "33/33 [==============================] - 25s 745ms/step - loss: 2.1798 - accuracy: 0.3018 - val_loss: 2.0472 - val_accuracy: 0.3083\n",
      "Epoch 4/75\n",
      "33/33 [==============================] - 25s 745ms/step - loss: 2.0881 - accuracy: 0.3124 - val_loss: 1.8119 - val_accuracy: 0.4877\n",
      "Epoch 5/75\n",
      "33/33 [==============================] - 25s 750ms/step - loss: 1.7945 - accuracy: 0.4172 - val_loss: 1.4187 - val_accuracy: 0.5417\n",
      "Epoch 6/75\n",
      "33/33 [==============================] - 25s 748ms/step - loss: 1.4393 - accuracy: 0.5257 - val_loss: 1.1922 - val_accuracy: 0.6205\n",
      "Epoch 7/75\n",
      "33/33 [==============================] - 25s 732ms/step - loss: 1.0046 - accuracy: 0.6742 - val_loss: 1.0291 - val_accuracy: 0.6602\n",
      "Epoch 8/75\n",
      "33/33 [==============================] - 25s 750ms/step - loss: 0.6617 - accuracy: 0.7900 - val_loss: 0.4641 - val_accuracy: 0.8452\n",
      "Epoch 9/75\n",
      "33/33 [==============================] - 25s 748ms/step - loss: 0.4291 - accuracy: 0.8652 - val_loss: 0.3102 - val_accuracy: 0.9100\n",
      "Epoch 10/75\n",
      "33/33 [==============================] - 25s 748ms/step - loss: 0.2905 - accuracy: 0.9143 - val_loss: 0.1950 - val_accuracy: 0.9439\n",
      "Epoch 11/75\n",
      "33/33 [==============================] - 25s 739ms/step - loss: 0.4000 - accuracy: 0.8814 - val_loss: 0.1889 - val_accuracy: 0.9458\n",
      "Epoch 12/75\n",
      "33/33 [==============================] - 25s 734ms/step - loss: 0.1766 - accuracy: 0.9485 - val_loss: 0.1544 - val_accuracy: 0.9558\n",
      "Epoch 13/75\n",
      "33/33 [==============================] - 25s 746ms/step - loss: 0.1587 - accuracy: 0.9518 - val_loss: 0.1362 - val_accuracy: 0.9606\n",
      "Epoch 14/75\n",
      "33/33 [==============================] - 25s 748ms/step - loss: 0.2609 - accuracy: 0.9229 - val_loss: 0.1387 - val_accuracy: 0.9601\n",
      "Epoch 15/75\n",
      "33/33 [==============================] - 25s 744ms/step - loss: 0.1280 - accuracy: 0.9611 - val_loss: 0.1261 - val_accuracy: 0.9617\n",
      "Epoch 16/75\n",
      "33/33 [==============================] - 25s 733ms/step - loss: 0.1159 - accuracy: 0.9656 - val_loss: 0.1105 - val_accuracy: 0.9675\n",
      "Epoch 17/75\n",
      "33/33 [==============================] - 25s 747ms/step - loss: 0.1034 - accuracy: 0.9689 - val_loss: 0.1150 - val_accuracy: 0.9640\n",
      "Epoch 18/75\n",
      "33/33 [==============================] - 25s 745ms/step - loss: 0.1077 - accuracy: 0.9668 - val_loss: 0.0988 - val_accuracy: 0.9705\n",
      "Epoch 19/75\n",
      "33/33 [==============================] - 25s 737ms/step - loss: 0.0894 - accuracy: 0.9727 - val_loss: 0.1282 - val_accuracy: 0.9602\n",
      "Epoch 20/75\n",
      "33/33 [==============================] - 25s 748ms/step - loss: 0.4059 - accuracy: 0.8814 - val_loss: 0.1278 - val_accuracy: 0.9620\n",
      "Epoch 21/75\n",
      "33/33 [==============================] - 25s 731ms/step - loss: 0.1046 - accuracy: 0.9690 - val_loss: 0.1037 - val_accuracy: 0.9698\n",
      "Epoch 22/75\n",
      "33/33 [==============================] - 25s 746ms/step - loss: 0.0908 - accuracy: 0.9736 - val_loss: 0.0929 - val_accuracy: 0.9708\n",
      "Epoch 23/75\n",
      "33/33 [==============================] - 25s 750ms/step - loss: 0.0804 - accuracy: 0.9758 - val_loss: 0.0938 - val_accuracy: 0.9742\n",
      "Epoch 24/75\n",
      "33/33 [==============================] - 25s 747ms/step - loss: 0.0745 - accuracy: 0.9777 - val_loss: 0.0879 - val_accuracy: 0.9746\n",
      "Epoch 25/75\n",
      "33/33 [==============================] - 25s 733ms/step - loss: 0.0707 - accuracy: 0.9787 - val_loss: 0.0939 - val_accuracy: 0.9719\n",
      "Epoch 26/75\n",
      "33/33 [==============================] - 25s 745ms/step - loss: 0.0670 - accuracy: 0.9797 - val_loss: 0.1531 - val_accuracy: 0.9508\n",
      "Epoch 27/75\n",
      "33/33 [==============================] - 25s 743ms/step - loss: 0.2975 - accuracy: 0.9231 - val_loss: 0.0988 - val_accuracy: 0.9706\n",
      "Epoch 28/75\n",
      "33/33 [==============================] - 25s 744ms/step - loss: 0.0703 - accuracy: 0.9792 - val_loss: 0.0857 - val_accuracy: 0.9751\n",
      "Epoch 29/75\n",
      "33/33 [==============================] - 25s 742ms/step - loss: 0.0614 - accuracy: 0.9816 - val_loss: 0.0828 - val_accuracy: 0.9756\n",
      "Epoch 30/75\n",
      "33/33 [==============================] - 25s 739ms/step - loss: 0.0563 - accuracy: 0.9830 - val_loss: 0.0788 - val_accuracy: 0.9751\n",
      "Epoch 31/75\n",
      "33/33 [==============================] - 25s 743ms/step - loss: 0.0557 - accuracy: 0.9831 - val_loss: 0.0750 - val_accuracy: 0.9775\n",
      "Epoch 32/75\n",
      "33/33 [==============================] - 25s 743ms/step - loss: 0.0517 - accuracy: 0.9845 - val_loss: 0.0762 - val_accuracy: 0.9780\n",
      "Epoch 33/75\n",
      "33/33 [==============================] - 25s 754ms/step - loss: 0.0511 - accuracy: 0.9844 - val_loss: 0.0735 - val_accuracy: 0.9771\n",
      "Epoch 34/75\n",
      "33/33 [==============================] - 25s 736ms/step - loss: 0.0474 - accuracy: 0.9855 - val_loss: 0.0705 - val_accuracy: 0.9790\n",
      "Epoch 35/75\n",
      "33/33 [==============================] - 25s 745ms/step - loss: 0.0460 - accuracy: 0.9862 - val_loss: 0.0688 - val_accuracy: 0.9793\n",
      "Epoch 36/75\n",
      "33/33 [==============================] - 25s 749ms/step - loss: 0.0448 - accuracy: 0.9866 - val_loss: 0.0716 - val_accuracy: 0.9789\n",
      "Epoch 37/75\n",
      "33/33 [==============================] - 25s 746ms/step - loss: 0.0430 - accuracy: 0.9873 - val_loss: 0.0715 - val_accuracy: 0.9780\n",
      "Epoch 38/75\n",
      "33/33 [==============================] - 25s 746ms/step - loss: 0.0409 - accuracy: 0.9880 - val_loss: 0.0678 - val_accuracy: 0.9807\n",
      "Epoch 39/75\n",
      "33/33 [==============================] - 25s 732ms/step - loss: 0.0379 - accuracy: 0.9886 - val_loss: 0.0667 - val_accuracy: 0.9800\n",
      "Epoch 40/75\n",
      "33/33 [==============================] - 25s 740ms/step - loss: 0.0417 - accuracy: 0.9873 - val_loss: 0.1687 - val_accuracy: 0.9510\n",
      "Epoch 41/75\n",
      "33/33 [==============================] - 25s 745ms/step - loss: 0.7089 - accuracy: 0.8026 - val_loss: 0.1595 - val_accuracy: 0.9614\n",
      "Epoch 42/75\n",
      "33/33 [==============================] - 25s 751ms/step - loss: 0.4937 - accuracy: 0.8706 - val_loss: 0.1529 - val_accuracy: 0.9613\n",
      "Epoch 43/75\n",
      "33/33 [==============================] - 25s 752ms/step - loss: 0.1118 - accuracy: 0.9694 - val_loss: 0.1060 - val_accuracy: 0.9702\n",
      "Epoch 44/75\n",
      "33/33 [==============================] - 25s 739ms/step - loss: 0.0812 - accuracy: 0.9762 - val_loss: 0.0970 - val_accuracy: 0.9715\n",
      "Epoch 45/75\n",
      "33/33 [==============================] - 25s 751ms/step - loss: 0.0687 - accuracy: 0.9787 - val_loss: 0.0847 - val_accuracy: 0.9755\n",
      "Epoch 46/75\n",
      "33/33 [==============================] - 25s 750ms/step - loss: 0.0614 - accuracy: 0.9809 - val_loss: 0.0827 - val_accuracy: 0.9763\n",
      "Epoch 47/75\n",
      "33/33 [==============================] - 25s 757ms/step - loss: 0.0544 - accuracy: 0.9829 - val_loss: 0.0818 - val_accuracy: 0.9767\n",
      "Epoch 48/75\n",
      "33/33 [==============================] - 25s 740ms/step - loss: 0.0507 - accuracy: 0.9843 - val_loss: 0.0813 - val_accuracy: 0.9781\n",
      "Epoch 49/75\n",
      "33/33 [==============================] - 25s 750ms/step - loss: 0.0462 - accuracy: 0.9859 - val_loss: 0.0752 - val_accuracy: 0.9777\n",
      "Epoch 50/75\n",
      "33/33 [==============================] - 25s 753ms/step - loss: 0.0428 - accuracy: 0.9868 - val_loss: 0.0748 - val_accuracy: 0.9796\n",
      "Epoch 51/75\n",
      "33/33 [==============================] - 25s 753ms/step - loss: 0.0414 - accuracy: 0.9872 - val_loss: 0.0755 - val_accuracy: 0.9786\n",
      "Epoch 52/75\n",
      "33/33 [==============================] - 25s 750ms/step - loss: 0.0383 - accuracy: 0.9882 - val_loss: 0.0739 - val_accuracy: 0.9789\n",
      "Epoch 53/75\n",
      "33/33 [==============================] - 25s 740ms/step - loss: 0.0368 - accuracy: 0.9886 - val_loss: 0.0711 - val_accuracy: 0.9806\n",
      "Epoch 54/75\n",
      "33/33 [==============================] - 25s 750ms/step - loss: 0.0357 - accuracy: 0.9891 - val_loss: 0.0690 - val_accuracy: 0.9799\n",
      "Epoch 55/75\n",
      "33/33 [==============================] - 25s 752ms/step - loss: 0.0341 - accuracy: 0.9895 - val_loss: 0.0724 - val_accuracy: 0.9793\n",
      "Epoch 56/75\n",
      "33/33 [==============================] - 25s 746ms/step - loss: 0.0326 - accuracy: 0.9897 - val_loss: 0.0695 - val_accuracy: 0.9794\n",
      "Epoch 57/75\n",
      "33/33 [==============================] - 26s 763ms/step - loss: 0.0314 - accuracy: 0.9901 - val_loss: 0.0750 - val_accuracy: 0.9785\n",
      "Epoch 58/75\n",
      "33/33 [==============================] - 25s 752ms/step - loss: 0.0284 - accuracy: 0.9913 - val_loss: 0.0708 - val_accuracy: 0.9800\n",
      "Epoch 59/75\n",
      "33/33 [==============================] - 25s 754ms/step - loss: 0.0270 - accuracy: 0.9922 - val_loss: 0.0668 - val_accuracy: 0.9824\n",
      "Epoch 60/75\n",
      "33/33 [==============================] - 25s 761ms/step - loss: 0.0267 - accuracy: 0.9917 - val_loss: 0.0750 - val_accuracy: 0.9781\n",
      "Epoch 61/75\n",
      "33/33 [==============================] - 25s 751ms/step - loss: 0.0271 - accuracy: 0.9916 - val_loss: 0.0695 - val_accuracy: 0.9806\n",
      "Epoch 62/75\n",
      "33/33 [==============================] - 25s 741ms/step - loss: 0.0270 - accuracy: 0.9918 - val_loss: 0.0672 - val_accuracy: 0.9820\n",
      "Epoch 63/75\n",
      "33/33 [==============================] - 25s 738ms/step - loss: 0.0244 - accuracy: 0.9929 - val_loss: 0.0708 - val_accuracy: 0.9802\n",
      "Epoch 64/75\n",
      "33/33 [==============================] - 25s 753ms/step - loss: 0.0239 - accuracy: 0.9927 - val_loss: 0.0691 - val_accuracy: 0.9815\n",
      "Epoch 65/75\n",
      "33/33 [==============================] - 25s 753ms/step - loss: 0.0214 - accuracy: 0.9942 - val_loss: 0.0732 - val_accuracy: 0.9802\n",
      "Epoch 66/75\n",
      "33/33 [==============================] - 25s 760ms/step - loss: 0.0211 - accuracy: 0.9937 - val_loss: 0.0672 - val_accuracy: 0.9814\n",
      "Epoch 67/75\n",
      "33/33 [==============================] - 25s 744ms/step - loss: 0.0196 - accuracy: 0.9945 - val_loss: 0.0684 - val_accuracy: 0.9814\n",
      "Epoch 68/75\n",
      "33/33 [==============================] - 26s 759ms/step - loss: 0.0184 - accuracy: 0.9950 - val_loss: 0.0661 - val_accuracy: 0.9835\n",
      "Epoch 69/75\n",
      "33/33 [==============================] - 25s 759ms/step - loss: 0.0180 - accuracy: 0.9948 - val_loss: 0.0694 - val_accuracy: 0.9814\n",
      "Epoch 70/75\n",
      "33/33 [==============================] - 25s 756ms/step - loss: 0.0176 - accuracy: 0.9951 - val_loss: 0.0705 - val_accuracy: 0.9821\n",
      "Epoch 71/75\n",
      "33/33 [==============================] - 26s 766ms/step - loss: 0.0163 - accuracy: 0.9957 - val_loss: 0.0655 - val_accuracy: 0.9823\n",
      "Epoch 72/75\n",
      "33/33 [==============================] - 25s 743ms/step - loss: 0.0163 - accuracy: 0.9958 - val_loss: 0.0866 - val_accuracy: 0.9783\n",
      "Epoch 73/75\n",
      "33/33 [==============================] - 25s 754ms/step - loss: 0.0162 - accuracy: 0.9951 - val_loss: 0.0663 - val_accuracy: 0.9826\n",
      "Epoch 74/75\n",
      "33/33 [==============================] - 25s 753ms/step - loss: 0.0161 - accuracy: 0.9955 - val_loss: 0.0648 - val_accuracy: 0.9833\n",
      "Epoch 75/75\n",
      "33/33 [==============================] - 25s 753ms/step - loss: 0.0138 - accuracy: 0.9963 - val_loss: 0.0678 - val_accuracy: 0.9825\n"
     ]
    }
   ],
   "source": [
    "history = model.fit(x_train, y_train, batch_size=1000,\n",
    "                    validation_data=(x_test1, y_test1), \n",
    "                    steps_per_epoch=len(x_train)/1000,\n",
    "                    epochs=75)"
   ]
  },
  {
   "cell_type": "code",
   "execution_count": 9,
   "id": "9b88dcd8",
   "metadata": {
    "execution": {
     "iopub.execute_input": "2023-04-22T17:04:37.036615Z",
     "iopub.status.busy": "2023-04-22T17:04:37.035893Z",
     "iopub.status.idle": "2023-04-22T17:04:37.311098Z",
     "shell.execute_reply": "2023-04-22T17:04:37.309877Z"
    },
    "papermill": {
     "duration": 0.45302,
     "end_time": "2023-04-22T17:04:37.313563",
     "exception": false,
     "start_time": "2023-04-22T17:04:36.860543",
     "status": "completed"
    },
    "tags": []
   },
   "outputs": [
    {
     "data": {
      "image/png": "[encoded data removed]",
      "text/plain": [
       "<Figure size 640x480 with 1 Axes>"
      ]
     },
     "metadata": {},
     "output_type": "display_data"
    }
   ],
   "source": [
    "#Summarize history for accuracy\n",
    "plt.plot(history.history['accuracy'])\n",
    "plt.plot(history.history['val_accuracy'])\n",
    "plt.title('model accuracy')\n",
    "plt.ylabel('accuracy')\n",
    "plt.xlabel('epoch')\n",
    "plt.legend(['train', 'test'], loc='upper left')\n",
    "plt.grid()\n",
    "plt.show()"
   ]
  },
  {
   "cell_type": "code",
   "execution_count": 10,
   "id": "fb06d2a3",
   "metadata": {
    "execution": {
     "iopub.execute_input": "2023-04-22T17:04:37.665661Z",
     "iopub.status.busy": "2023-04-22T17:04:37.665018Z",
     "iopub.status.idle": "2023-04-22T17:04:37.895035Z",
     "shell.execute_reply": "2023-04-22T17:04:37.893778Z"
    },
    "papermill": {
     "duration": 0.409496,
     "end_time": "2023-04-22T17:04:37.897417",
     "exception": false,
     "start_time": "2023-04-22T17:04:37.487921",
     "status": "completed"
    },
    "tags": []
   },
   "outputs": [
    {
     "data": {
      "image/png": "[encoded data removed]",
      "text/plain": [
       "<Figure size 640x480 with 1 Axes>"
      ]
     },
     "metadata": {},
     "output_type": "display_data"
    }
   ],
   "source": [
    "plt.plot(history.history['loss'])\n",
    "plt.plot(history.history['val_loss'])\n",
    "plt.title('model loss')\n",
    "plt.ylabel('loss')\n",
    "plt.xlabel('epoch')\n",
    "plt.legend(['train', 'test'], loc='upper left')\n",
    "plt.grid()\n",
    "plt.show()"
   ]
  },
  {
   "cell_type": "code",
   "execution_count": 11,
   "id": "41d7ec7e",
   "metadata": {
    "execution": {
     "iopub.execute_input": "2023-04-22T17:04:38.252095Z",
     "iopub.status.busy": "2023-04-22T17:04:38.251608Z",
     "iopub.status.idle": "2023-04-22T17:04:40.619960Z",
     "shell.execute_reply": "2023-04-22T17:04:40.618930Z"
    },
    "papermill": {
     "duration": 2.55007,
     "end_time": "2023-04-22T17:04:40.622591",
     "exception": false,
     "start_time": "2023-04-22T17:04:38.072521",
     "status": "completed"
    },
    "tags": []
   },
   "outputs": [],
   "source": [
    "path_test = \"/kaggle/input/digit-recognizer/test.csv\"\n",
    "mytest = pd.read_csv(path_test)\n",
    "x_test2 = mytest.to_numpy()\n",
    "x_test2 = x_test2/.255 \n",
    "x_test2 = np.array(x_test2).reshape(x_test2.shape[0], 28, 28, 1)"
   ]
  },
  {
   "cell_type": "code",
   "execution_count": 12,
   "id": "4dd52ecb",
   "metadata": {
    "execution": {
     "iopub.execute_input": "2023-04-22T17:04:40.977632Z",
     "iopub.status.busy": "2023-04-22T17:04:40.977183Z",
     "iopub.status.idle": "2023-04-22T17:04:48.868292Z",
     "shell.execute_reply": "2023-04-22T17:04:48.867190Z"
    },
    "papermill": {
     "duration": 8.072943,
     "end_time": "2023-04-22T17:04:48.871185",
     "exception": false,
     "start_time": "2023-04-22T17:04:40.798242",
     "status": "completed"
    },
    "tags": []
   },
   "outputs": [
    {
     "name": "stdout",
     "output_type": "stream",
     "text": [
      "875/875 [==============================] - 7s 8ms/step\n"
     ]
    }
   ],
   "source": [
    "y_pred = model.predict(x_test2)\n",
    "preds_test = np.argmax(y_pred,axis = 1)\n",
    "\n",
    "sample_sub = pd.read_csv(\"/kaggle/input/digit-recognizer/sample_submission.csv\")\n",
    "test_id = sample_sub.ImageId.copy()\n",
    "\n",
    "results = pd.Series(preds_test,name=\"Label\")\n",
    "output = pd.DataFrame({'ImageId': test_id,\n",
    "                       'Label': preds_test})\n",
    "\n",
    "output.to_csv('submission.csv', index=False)"
   ]
  }
 ],
 "metadata": {
  "kernelspec": {
   "display_name": "Python 3",
   "language": "python",
   "name": "python3"
  },
  "language_info": {
   "codemirror_mode": {
    "name": "ipython",
    "version": 3
   },
   "file_extension": ".py",
   "mimetype": "text/x-python",
   "name": "python",
   "nbconvert_exporter": "python",
   "pygments_lexer": "ipython3",
   "version": "3.7.12"
  },
  "papermill": {
   "default_parameters": {},
   "duration": 1923.040898,
   "end_time": "2023-04-22T17:04:52.521769",
   "environment_variables": {},
   "exception": null,
   "input_path": "__notebook__.ipynb",
   "output_path": "__notebook__.ipynb",
   "parameters": {},
   "start_time": "2023-04-22T16:32:49.480871",
   "version": "2.4.0"
  }
 },
 "nbformat": 4,
 "nbformat_minor": 5
}
